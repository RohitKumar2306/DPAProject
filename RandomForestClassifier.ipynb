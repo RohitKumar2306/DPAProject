{
 "cells": [
  {
   "cell_type": "code",
   "execution_count": 21,
   "id": "f1ce92db-8c83-42aa-ab8e-4760c2f83b43",
   "metadata": {},
   "outputs": [
    {
     "name": "stdout",
     "output_type": "stream",
     "text": [
      "              precision    recall  f1-score   support\n",
      "\n",
      "           1       0.46      0.31      0.37     18059\n",
      "           2       0.75      0.92      0.83     44989\n",
      "           3       0.69      0.64      0.67     56952\n",
      "\n",
      "    accuracy                           0.70    120000\n",
      "   macro avg       0.63      0.62      0.62    120000\n",
      "weighted avg       0.68      0.70      0.68    120000\n",
      "\n"
     ]
    }
   ],
   "source": [
    "import pandas as pd\n",
    "from sklearn_pandas import DataFrameMapper\n",
    "from sklearn2pmml.pipeline import PMMLPipeline\n",
    "from sklearn2pmml import sklearn2pmml\n",
    "\n",
    "from sklearn.impute import SimpleImputer\n",
    "from sklearn.preprocessing import StandardScaler\n",
    "from sklearn.decomposition import PCA\n",
    "from sklearn.feature_selection import SelectKBest\n",
    "from sklearn.tree import DecisionTreeClassifier\n",
    "from sklearn.model_selection import train_test_split\n",
    "from sklearn.metrics import classification_report\n",
    "\n",
    "# Load the dataset\n",
    "data = pd.read_csv('/Users/rohitkumarchintamani/Downloads/data_public.csv')\n",
    "\n",
    "# Separate features and target\n",
    "X = data.drop('Class', axis=1)\n",
    "y = data['Class']\n",
    "\n",
    "# Split the data into training and testing sets\n",
    "X_train, X_test, y_train, y_test = train_test_split(X, y, test_size=0.1, random_state=42, stratify=y)\n",
    "\n",
    "# Define the pipeline\n",
    "pipeline = PMMLPipeline([\n",
    "    ('mapper', DataFrameMapper([\n",
    "        (X_train.columns.values, [SimpleImputer(strategy='mean'), StandardScaler()])\n",
    "    ])),\n",
    "    ('pca', PCA(n_components=4)),\n",
    "    ('selector', SelectKBest(k=2)),\n",
    "    ('classifier', RandomForestClassifier(random_state=42))\n",
    "])\n",
    "\n",
    "# Fit the pipeline on the training data\n",
    "pipeline.fit(X_train, y_train)\n",
    "\n",
    "# Predictions and evaluation\n",
    "y_pred = pipeline.predict(X_test)\n",
    "print(classification_report(y_test, y_pred))\n",
    "\n",
    "# Optionally, export the model to PMML\n",
    "# sklearn2pmml(pipeline, \"ModelPipeline.pmml\", with_repr=True)\n"
   ]
  },
  {
   "cell_type": "code",
   "execution_count": 22,
   "id": "35dc98e3-7cb3-4d22-839a-1f0457777f42",
   "metadata": {},
   "outputs": [
    {
     "data": {
      "text/plain": [
       "array([2, 2, 3, ..., 2, 3, 1])"
      ]
     },
     "execution_count": 22,
     "metadata": {},
     "output_type": "execute_result"
    }
   ],
   "source": [
    "pipeline.predict(X_test)"
   ]
  },
  {
   "cell_type": "code",
   "execution_count": 23,
   "id": "a9b072e1-e0d5-449f-a3fb-b90fa64c024c",
   "metadata": {},
   "outputs": [
    {
     "data": {
      "text/plain": [
       "array([2, 3, 1, ..., 2, 3, 1])"
      ]
     },
     "execution_count": 23,
     "metadata": {},
     "output_type": "execute_result"
    }
   ],
   "source": [
    "y_test.values.ravel()"
   ]
  },
  {
   "cell_type": "code",
   "execution_count": 24,
   "id": "fcdc8a6c-6cf3-47c0-8696-117c7514ff31",
   "metadata": {},
   "outputs": [
    {
     "name": "stdout",
     "output_type": "stream",
     "text": [
      "              precision    recall  f1-score   support\n",
      "\n",
      "           1       0.31      0.46      0.37     12202\n",
      "           2       0.92      0.75      0.83     55391\n",
      "           3       0.64      0.69      0.67     52407\n",
      "\n",
      "    accuracy                           0.70    120000\n",
      "   macro avg       0.62      0.63      0.62    120000\n",
      "weighted avg       0.74      0.70      0.71    120000\n",
      "\n"
     ]
    }
   ],
   "source": [
    "print(classification_report(pipeline.predict(X_test),\n",
    "                            y_test))"
   ]
  },
  {
   "cell_type": "code",
   "execution_count": null,
   "id": "9775a6dd-65e0-4b76-a15c-85e2e7b8367b",
   "metadata": {},
   "outputs": [],
   "source": []
  }
 ],
 "metadata": {
  "kernelspec": {
   "display_name": "Python 3 (ipykernel)",
   "language": "python",
   "name": "python3"
  },
  "language_info": {
   "codemirror_mode": {
    "name": "ipython",
    "version": 3
   },
   "file_extension": ".py",
   "mimetype": "text/x-python",
   "name": "python",
   "nbconvert_exporter": "python",
   "pygments_lexer": "ipython3",
   "version": "3.8.18"
  }
 },
 "nbformat": 4,
 "nbformat_minor": 5
}
